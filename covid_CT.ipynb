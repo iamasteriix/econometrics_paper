{
 "cells": [
  {
   "cell_type": "markdown",
   "id": "bbfb1266",
   "metadata": {},
   "source": [
    "# The Impact of the Coronavirus Pandemic on Connecticut's Residential Real Estate Market"
   ]
  },
  {
   "cell_type": "markdown",
   "id": "910bc718",
   "metadata": {},
   "source": [
    "I'll be using this file to do all the necessary data wrangling, analysis and plotting with python, and maybe even take a few notes that will go to the final paper.\n",
    "\n",
    "#### Objectives\n",
    "- [ ] import dataset\n",
    "- [ ] add data about aggregate infection numbers in Connecticut\n",
    "- [ ] if poverty rates found, add\n",
    "- [ ] describe where we got the data from\n",
    "- [ ] show table summary\n",
    "- [ ] answer questions using plots and graphs\n",
    "\n",
    "#### Questions\n",
    "The background goes over the various questions we want to answer with this paper. Specifically, we want to investigate whatever demographic data we can find to explain income, along with infection rates, affected the residential real estate market in CT. A few questions we have to start include the following:\n",
    "1. What do the sale prices in each quartile look like?\n",
    "2. What is the trend in sales from 2016 to 2018?\n",
    "3. How does infection affect sales in each quartile?\n",
    "4. What cities show the largest changes? Why do we think that was?\n",
    "We might have to define the quartiles."
   ]
  }
 ],
 "metadata": {
  "kernelspec": {
   "display_name": "Python 3 (ipykernel)",
   "language": "python",
   "name": "python3"
  },
  "language_info": {
   "codemirror_mode": {
    "name": "ipython",
    "version": 3
   },
   "file_extension": ".py",
   "mimetype": "text/x-python",
   "name": "python",
   "nbconvert_exporter": "python",
   "pygments_lexer": "ipython3",
   "version": "3.9.2"
  }
 },
 "nbformat": 4,
 "nbformat_minor": 5
}
